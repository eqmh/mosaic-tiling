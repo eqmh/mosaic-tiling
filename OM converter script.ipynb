{
 "cells": [
  {
   "cell_type": "markdown",
   "metadata": {},
   "source": [
    "# **Convert Orthomosaic tiles from .TIF to .PNG for use in CoralNet**  \n",
    "## Python Script to convert pre-processed orthomosaic (OM) constructed in Agisoft Metashape into format usable in CoralNet  \n",
    "### Orthomosaics are often too large to upload to CoralNet, so the OM is tiled  \n",
    "### There are two methods to tile the OM included here:\n",
    "#### 1) the OM is split according to a grid formatted in a shapefile crated in ArcGIS Pro    \n",
    "#### 2) the OM is split into identifically sized cells defined by number of pixels  \n",
    "### The grid cells are approximately 1x1m but not perfectly uniform in this specific case (project specific for the example orthomosaic)  "
   ]
  },
  {
   "cell_type": "markdown",
   "metadata": {},
   "source": [
    "Load libraries"
   ]
  },
  {
   "cell_type": "code",
   "execution_count": null,
   "metadata": {},
   "outputs": [],
   "source": [
    "import rasterio\n",
    "import geopandas as gpd\n",
    "from rasterio.windows import Window\n",
    "import os\n",
    "\n"
   ]
  },
  {
   "cell_type": "markdown",
   "metadata": {},
   "source": [
    "Load Orthomoasic in TIF format"
   ]
  },
  {
   "cell_type": "code",
   "execution_count": null,
   "metadata": {},
   "outputs": [],
   "source": [
    "# Replace 'tif_path' with the path to your TIF file\n",
    "tif_path = 'C:\\\\Users\\\\David.Kochan\\\\OneDrive - Florida Fish and Wildlife Conservation\\\\Desktop\\\\pinkgreen tiles\\\\04_pinkgreen_ortho_final.tif'\n",
    "with rasterio.open(tif_path) as src:\n",
    "    data = src.read()\n",
    "    width = src.width\n",
    "    height = src.height"
   ]
  },
  {
   "cell_type": "markdown",
   "metadata": {},
   "source": [
    "1) If using a grid derived from a shapefile created in ArcGIS Pro complete the following 3 steps:  \n",
    "1a. Load grid in the shapefile format  \n"
   ]
  },
  {
   "cell_type": "code",
   "execution_count": null,
   "metadata": {},
   "outputs": [],
   "source": [
    "# Replace 'shapefile_path' with the path to your shapefile containing the grid \n",
    "# Make sure that all shapefile files are in the same folder (.shx, .sbn, etc)\n",
    "shapefile_path = 'C:\\\\Users\\\\David.Kochan\\\\OneDrive - Florida Fish and Wildlife Conservation\\\\Desktop\\\\pinkgreen tiles\\\\grid_pinkgreen.shp'\n",
    "grid = gpd.read_file(shapefile_path)\n"
   ]
  },
  {
   "cell_type": "markdown",
   "metadata": {},
   "source": [
    "1b. Select output directory"
   ]
  },
  {
   "cell_type": "code",
   "execution_count": null,
   "metadata": {},
   "outputs": [],
   "source": [
    "# Replace 'output_directory' with the path to the directory where you want to save the PNGs\n",
    "# Will create folder if folder does not already exist\n",
    "output_directory = 'C:\\\\Users\\\\David.Kochan\\\\OneDrive - Florida Fish and Wildlife Conservation\\\\Desktop\\\\pinkgreen pngs'\n",
    "# Make sure the output directory exists\n",
    "if not os.path.exists(output_directory):\n",
    "    os.makedirs(output_directory)"
   ]
  },
  {
   "cell_type": "markdown",
   "metadata": {},
   "source": [
    "1c. Loop to tile orthomosaic according to the grid, naming tiles, and exporting tiles as PNG  \n",
    "  Each tile is being renamed according to the GRID column in the shapefile, which was created and named in ArcGIS Pro  \n",
    "  For example, the first tile is named A1_pinkgreen.png  \n",
    "  Note: Because of the orientation of the grid (starting in the top left), the row start and row stop indices are flipped  \n",
    "  If you get an error that the window is not an integer or zero, flip the row or col starts and stops to ensure there is a positive value for the row and column indices"
   ]
  },
  {
   "cell_type": "code",
   "execution_count": null,
   "metadata": {},
   "outputs": [],
   "source": [
    "# Loop through each grid feature and extract and save the corresponding sub-area as PNG\n",
    "for idx, feature in grid.iterrows():\n",
    "    # Get the value from the specified column in the shapefile for naming the PNG\n",
    "    name_column = 'GRID'  # Replace 'column_name' with the actual name of the column\n",
    "    png_name = str(feature[name_column]) + '_pinkgreen.png'\n",
    "    # Get the coordinates of the bounding box for the grid cell\n",
    "    bounds = feature.geometry.bounds\n",
    "    minx, miny, maxx, maxy = bounds\n",
    "\n",
    "    # Calculate the row and column indices in the TIF for the current grid cell\n",
    "    row_start, col_start = src.index(minx, miny)\n",
    "    row_stop, col_stop = src.index(maxx, maxy)\n",
    "\n",
    "    # Create a window to extract the sub-area\n",
    "    window = Window.from_slices((row_stop, row_start+1), (col_start, col_stop+1))\n",
    "\n",
    "    # Convert window attributes to integers\n",
    "    row_off = int(window.row_off)\n",
    "    col_off = int(window.col_off)\n",
    "    height = int(window.height)\n",
    "    width = int(window.width)\n",
    "    print(row_off)\n",
    "    print(col_off)\n",
    "    print(height)\n",
    "    print(width)\n",
    "\n",
    "    # Extract the sub-area from the TIF\n",
    "    sub_data = data[:, row_off:row_off + height, col_off:col_off + width]\n",
    "\n",
    "\n",
    "    # Get the output PNG filename (you can modify this based on your requirement)\n",
    "    output_filename = os.path.join(output_directory, f'sub_area_{idx}.png')\n",
    "\n",
    "    # Get the output PNG filename\n",
    "    output_filename = os.path.join(output_directory, png_name)\n",
    "\n",
    "    # Save the sub-area as PNG\n",
    "    with rasterio.open(output_filename, 'w', driver='PNG', width=sub_data.shape[2], height=sub_data.shape[1], count=sub_data.shape[0], dtype=sub_data.dtype) as dst:\n",
    "        dst.write(sub_data)"
   ]
  },
  {
   "cell_type": "markdown",
   "metadata": {},
   "source": [
    "2). If using a grid created by identical cells measured by pixels  \n",
    "2a. Set pixel height and width  \n",
    "For this example, using 1000 x 1000 pixels to represent 1x1 meter squared cells (OM exported at 1mm pixel size)\n",
    "\n"
   ]
  },
  {
   "cell_type": "code",
   "execution_count": null,
   "metadata": {},
   "outputs": [],
   "source": [
    "# Define cell dimensions\n",
    "cell_width = 1000\n",
    "cell_height = 1000"
   ]
  },
  {
   "cell_type": "markdown",
   "metadata": {},
   "source": [
    "2b. Loop through the OM TIF and save each cell as a PNG"
   ]
  },
  {
   "cell_type": "code",
   "execution_count": null,
   "metadata": {},
   "outputs": [],
   "source": [
    "# Loop through the TIF and extract and save each cell as PNG\n",
    "for y in range(0, height, cell_height):\n",
    "    for x in range(0, width, cell_width):\n",
    "        window = Window(x, y, min(cell_width, width - x), min(cell_height, height - y))\n",
    "        sub_data = data[:, window.row_off:window.row_off + window.height, window.col_off:window.col_off + window.width]\n",
    "        \n",
    "        # Create a filename for the PNG based on cell position\n",
    "        cell_filename = f'cell_{y}_{x}.png'\n",
    "\n",
    "        # Get the output PNG filename (you can modify this based on your requirement)\n",
    "        output_filename = os.path.join(output_directory, cell_filename)\n",
    "    \n",
    "        \n",
    "        # Save the cell as PNG\n",
    "        with rasterio.open(output_filename, 'w', driver='PNG', width=sub_data.shape[2], height=sub_data.shape[1], count=sub_data.shape[0], dtype=sub_data.dtype) as dst:\n",
    "            dst.write(sub_data)"
   ]
  }
 ],
 "metadata": {
  "language_info": {
   "name": "python"
  },
  "orig_nbformat": 4
 },
 "nbformat": 4,
 "nbformat_minor": 2
}
